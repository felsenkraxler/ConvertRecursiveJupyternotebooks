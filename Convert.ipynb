{
 "cells": [
  {
   "cell_type": "markdown",
   "metadata": {},
   "source": [
    "# Convert some Jupyter Notebooks"
   ]
  },
  {
   "cell_type": "markdown",
   "metadata": {},
   "source": [
    "In the folder **myFolder**, getting all jupyter notebooks converted to markdown and are saved in the same spot as the origin file"
   ]
  },
  {
   "cell_type": "code",
   "execution_count": null,
   "metadata": {},
   "outputs": [],
   "source": [
    "import os"
   ]
  },
  {
   "cell_type": "code",
   "execution_count": null,
   "metadata": {},
   "outputs": [],
   "source": [
    "myFolder='Test'\n",
    "\n",
    "for root, dirs, files in os.walk(myFolder):\n",
    "    for name in files:\n",
    "        if name.endswith((\".ipynb\", \".inpy\")):\n",
    "#            try:\n",
    "            path=os.path.join(root, name).replace(\" \", \"\\\\ \")\n",
    "#            except:\n",
    "#                path=os.path.join(root, name)\n",
    "            comand=['jupyter nbconvert',path,'--to markdown']\n",
    "            jupyterComand = ' '.join(comand)\n",
    "            print(jupyterComand)\n",
    "            os.system(jupyterComand)\n",
    "        else:\n",
    "            print(\"---------------ERROR--------------------\")\n",
    "            print(jupyterComand)\n",
    "            print(\"---------------ERROR--------------------\")"
   ]
  }
 ],
 "metadata": {
  "kernelspec": {
   "display_name": "Python 3",
   "language": "python",
   "name": "python3"
  },
  "language_info": {
   "codemirror_mode": {
    "name": "ipython",
    "version": 3
   },
   "file_extension": ".py",
   "mimetype": "text/x-python",
   "name": "python",
   "nbconvert_exporter": "python",
   "pygments_lexer": "ipython3",
   "version": "3.7.6"
  }
 },
 "nbformat": 4,
 "nbformat_minor": 4
}
